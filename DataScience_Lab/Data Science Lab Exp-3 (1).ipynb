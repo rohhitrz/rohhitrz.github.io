{
 "cells": [
  {
   "cell_type": "code",
   "execution_count": 3,
   "id": "51fe1a84",
   "metadata": {},
   "outputs": [],
   "source": [
    "#PROGRAM 3\n",
    "#Using Numpy,pandas and Matplotlib demonstrate the following operations for the\n",
    "#sample dataset given,\n",
    "#i)Central tendency(mean,mode,median)\n",
    "#ii)\tDispersion and Distribution(variance,SD)\n",
    "#iii)\tANOVA\n",
    "#iv)\tHypothesis testing- z test\n",
    "\n",
    "\n",
    "\n"
   ]
  },
  {
   "cell_type": "code",
   "execution_count": 4,
   "id": "d3e8b160",
   "metadata": {},
   "outputs": [
    {
     "data": {
      "text/plain": [
       "5.375"
      ]
     },
     "execution_count": 4,
     "metadata": {},
     "output_type": "execute_result"
    }
   ],
   "source": [
    "#i)\tCentral tendency : central location\n",
    "#a. mean()\n",
    "import statistics as st\n",
    "nums=[1,2,3,5,5,9,9,9]\n",
    "st.mean(nums)"
   ]
  },
  {
   "cell_type": "code",
   "execution_count": 5,
   "id": "42e1c477",
   "metadata": {},
   "outputs": [
    {
     "data": {
      "text/plain": [
       "9"
      ]
     },
     "execution_count": 5,
     "metadata": {},
     "output_type": "execute_result"
    }
   ],
   "source": [
    "#b.Mode: most common value \n",
    "st.mode(nums)"
   ]
  },
  {
   "cell_type": "code",
   "execution_count": 6,
   "id": "f4b06dad",
   "metadata": {},
   "outputs": [
    {
     "data": {
      "text/plain": [
       "5.0"
      ]
     },
     "execution_count": 6,
     "metadata": {},
     "output_type": "execute_result"
    }
   ],
   "source": [
    "#c median:  odd length-  middle item, even- average of two middle \n",
    "st.median(nums) "
   ]
  },
  {
   "cell_type": "code",
   "execution_count": 7,
   "id": "cd59c296",
   "metadata": {},
   "outputs": [
    {
     "data": {
      "text/plain": [
       "10.839285714285714"
      ]
     },
     "execution_count": 7,
     "metadata": {},
     "output_type": "execute_result"
    }
   ],
   "source": [
    "#ii) Dispersion and Distribution: Dispersion/spread - how the data strays from the typical value.\n",
    "#1. variance()\n",
    "st.variance(nums)"
   ]
  },
  {
   "cell_type": "code",
   "execution_count": 49,
   "id": "1186db65",
   "metadata": {},
   "outputs": [
    {
     "data": {
      "text/plain": [
       "3.1847852585154217"
      ]
     },
     "execution_count": 49,
     "metadata": {},
     "output_type": "execute_result"
    }
   ],
   "source": [
    "# 2. Standered Deviation\n",
    "st.stdev(nums)"
   ]
  },
  {
   "cell_type": "code",
   "execution_count": 8,
   "id": "942cfb61",
   "metadata": {},
   "outputs": [
    {
     "data": {
      "text/plain": [
       "0    3.292307\n",
       "dtype: float64"
      ]
     },
     "execution_count": 8,
     "metadata": {},
     "output_type": "execute_result"
    }
   ],
   "source": [
    "import pandas as pd\n",
    "df=pd.DataFrame(nums)\n",
    "df.std()"
   ]
  },
  {
   "cell_type": "markdown",
   "id": "4062e590",
   "metadata": {},
   "source": [
    "iii)ANOVA(Hypothesis Testing): Analysis of variance in more than one group\n",
    "one-way ANOVA has the below given null and alternative hypotheses:\n",
    "H0 (null hypothesis): means of all the population are equal\n",
    "H1 (alternative hypothesis): there will be at least one population mean that differs from the rest"
   ]
  },
  {
   "cell_type": "code",
   "execution_count": 10,
   "id": "c0fb76cf",
   "metadata": {},
   "outputs": [
    {
     "data": {
      "text/plain": [
       "F_onewayResult(statistic=4.625000000000002, pvalue=0.016336459839780215)"
      ]
     },
     "execution_count": 10,
     "metadata": {},
     "output_type": "execute_result"
    }
   ],
   "source": [
    "# Importing library\n",
    "from scipy.stats import f_oneway\n",
    " \n",
    "# Performance when each of the engine\n",
    "# oil is applied\n",
    "performance1 = [89, 89, 88, 78, 79]\n",
    "performance2 = [93, 92, 94, 89, 88]\n",
    "performance3 = [89, 88, 89, 93, 90]\n",
    "performance4 = [81, 78, 81, 92, 82]\n",
    " \n",
    "# Conduct the one-way ANOVA\n",
    "f_oneway(performance1, performance2, performance3, performance4)"
   ]
  }
 ],
 "metadata": {
  "kernelspec": {
   "display_name": "Python 3",
   "language": "python",
   "name": "python3"
  },
  "language_info": {
   "codemirror_mode": {
    "name": "ipython",
    "version": 3
   },
   "file_extension": ".py",
   "mimetype": "text/x-python",
   "name": "python",
   "nbconvert_exporter": "python",
   "pygments_lexer": "ipython3",
   "version": "3.8.8"
  }
 },
 "nbformat": 4,
 "nbformat_minor": 5
}
